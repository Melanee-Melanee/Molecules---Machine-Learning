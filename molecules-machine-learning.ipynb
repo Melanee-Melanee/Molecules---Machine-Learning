{
 "cells": [
  {
   "cell_type": "markdown",
   "id": "d0e99345",
   "metadata": {
    "papermill": {
     "duration": 0.024006,
     "end_time": "2022-07-07T14:48:55.123658",
     "exception": false,
     "start_time": "2022-07-07T14:48:55.099652",
     "status": "completed"
    },
    "tags": []
   },
   "source": [
    "# <div style=\"color:white;display:fill;border-radius:5px;background-color:#0d427a;letter-spacing:0.5px;overflow:hidden\"><p style=\"padding:20px;color:white;overflow:hidden;margin:0;font-size:110%\"><b></b> Machine Learning - Molecules 🔬</p></div>\n",
    "\n",
    "<center ><img src='https://raw.githubusercontent.com/fukashi-hatake/kaggle_notebooks/main/images/Branches-of-Chemistry.jpg' width=\"50%\" height=\"50%\"> "
   ]
  },
  {
   "cell_type": "markdown",
   "id": "34a77ec6",
   "metadata": {
    "papermill": {
     "duration": 0.022242,
     "end_time": "2022-07-07T14:48:55.168819",
     "exception": false,
     "start_time": "2022-07-07T14:48:55.146577",
     "status": "completed"
    },
    "tags": []
   },
   "source": [
    "> Recently I attended AI competation and our task was to identify active molecules of COVID from normal molecules. Here are some tips that I learned from this challenge! "
   ]
  },
  {
   "cell_type": "markdown",
   "id": "eddf0b1c",
   "metadata": {
    "papermill": {
     "duration": 0.02241,
     "end_time": "2022-07-07T14:48:55.213842",
     "exception": false,
     "start_time": "2022-07-07T14:48:55.191432",
     "status": "completed"
    },
    "tags": []
   },
   "source": [
    "### <font color=\"#0d427a\"> What is SMILES? </font> \n"
   ]
  },
  {
   "cell_type": "markdown",
   "id": "64b1d38b",
   "metadata": {
    "papermill": {
     "duration": 0.026686,
     "end_time": "2022-07-07T14:48:55.267542",
     "exception": false,
     "start_time": "2022-07-07T14:48:55.240856",
     "status": "completed"
    },
    "tags": []
   },
   "source": [
    "#### SMILES (Simplified Molecular Input Line Entry System) \n",
    "\n",
    "> This is the simplest way to reflect a molecule. The idea behind is to use simple line notations for chemical formulas that are based on some rules. Atoms of chemical elements are represented by chemical symbols in capital letter, hydrogen is usually ignored. Single bonds are not displayed; for double, triple and quadruple bonds we shall use '=', '#', '$' respectively. Atoms that are bonded must stand nearby. Ring structures are written by breaking each ring at an arbitrary point (although some choices will lead to a more legible SMILES than others) to make a 'straight non-ring' structure (as if it wasn't a ring) and adding numerical ring closure labels to show connectivity between non-adjacent atoms. Aromacity is commonly illustrated by writing the constituent B, C, N, O, P and S atoms in lower-case forms b, c, n, o, p and s, respectively. To represent side chains of atomic gpoups branches are used."
   ]
  },
  {
   "cell_type": "markdown",
   "id": "c54f5d79",
   "metadata": {
    "papermill": {
     "duration": 0.025558,
     "end_time": "2022-07-07T14:48:55.315571",
     "exception": false,
     "start_time": "2022-07-07T14:48:55.290013",
     "status": "completed"
    },
    "tags": []
   },
   "source": [
    "#### <font color=\"#0d427a\"> Library for working with SMILES </font>  \n",
    "\n",
    "> rdkit - https://www.rdkit.org/ "
   ]
  },
  {
   "cell_type": "code",
   "execution_count": 1,
   "id": "f3ee940e",
   "metadata": {
    "execution": {
     "iopub.execute_input": "2022-07-07T14:48:55.371501Z",
     "iopub.status.busy": "2022-07-07T14:48:55.370614Z",
     "iopub.status.idle": "2022-07-07T14:49:08.161581Z",
     "shell.execute_reply": "2022-07-07T14:49:08.160853Z",
     "shell.execute_reply.started": "2022-03-06T07:33:56.19032Z"
    },
    "papermill": {
     "duration": 12.82359,
     "end_time": "2022-07-07T14:49:08.161747",
     "exception": false,
     "start_time": "2022-07-07T14:48:55.338157",
     "status": "completed"
    },
    "tags": []
   },
   "outputs": [
    {
     "name": "stdout",
     "output_type": "stream",
     "text": [
      "Collecting rdkit-pypi\r\n",
      "  Downloading rdkit_pypi-2022.3.4-cp37-cp37m-manylinux_2_17_x86_64.manylinux2014_x86_64.whl (22.7 MB)\r\n",
      "     |████████████████████████████████| 22.7 MB 497 kB/s            \r\n",
      "\u001b[?25hRequirement already satisfied: Pillow in /opt/conda/lib/python3.7/site-packages (from rdkit-pypi) (8.2.0)\r\n",
      "Requirement already satisfied: numpy in /opt/conda/lib/python3.7/site-packages (from rdkit-pypi) (1.20.3)\r\n",
      "Installing collected packages: rdkit-pypi\r\n",
      "Successfully installed rdkit-pypi-2022.3.4\r\n",
      "\u001b[33mWARNING: Running pip as the 'root' user can result in broken permissions and conflicting behaviour with the system package manager. It is recommended to use a virtual environment instead: https://pip.pypa.io/warnings/venv\u001b[0m\r\n"
     ]
    }
   ],
   "source": [
    "!pip install rdkit-pypi"
   ]
  },
  {
   "cell_type": "code",
   "execution_count": 2,
   "id": "39b2d865",
   "metadata": {
    "execution": {
     "iopub.execute_input": "2022-07-07T14:49:08.240274Z",
     "iopub.status.busy": "2022-07-07T14:49:08.239666Z",
     "iopub.status.idle": "2022-07-07T14:49:08.375307Z",
     "shell.execute_reply": "2022-07-07T14:49:08.375866Z",
     "shell.execute_reply.started": "2022-03-06T07:34:08.327795Z"
    },
    "papermill": {
     "duration": 0.176438,
     "end_time": "2022-07-07T14:49:08.376029",
     "exception": false,
     "start_time": "2022-07-07T14:49:08.199591",
     "status": "completed"
    },
    "tags": []
   },
   "outputs": [],
   "source": [
    "from rdkit.Chem import Draw   \n",
    "from rdkit import Chem \n",
    "from rdkit.Chem import AllChem\n",
    "from rdkit.Chem import Descriptors\n",
    "from rdkit.Chem.Draw import SimilarityMaps"
   ]
  },
  {
   "cell_type": "markdown",
   "id": "361fc3af",
   "metadata": {
    "papermill": {
     "duration": 0.0348,
     "end_time": "2022-07-07T14:49:08.446271",
     "exception": false,
     "start_time": "2022-07-07T14:49:08.411471",
     "status": "completed"
    },
    "tags": []
   },
   "source": [
    "#### <font color=\"#0d427a\"> Examples </font>  "
   ]
  },
  {
   "cell_type": "markdown",
   "id": "a61a821e",
   "metadata": {
    "papermill": {
     "duration": 0.034612,
     "end_time": "2022-07-07T14:49:08.516027",
     "exception": false,
     "start_time": "2022-07-07T14:49:08.481415",
     "status": "completed"
    },
    "tags": []
   },
   "source": [
    "* Example for inactive molecules: <font color='blue'>\"CCCN1CCC[C@H](c2cccc(O)c2)C1.Cl\"</font>\n",
    "* Example for active molecules: <font color='red'>\"CN1CCC(CNc2ccc3ncc(-c4cccc(OC(F)(F)F)c4)n3n2)CC1\"</font>"
   ]
  },
  {
   "cell_type": "code",
   "execution_count": 3,
   "id": "ccd02480",
   "metadata": {
    "execution": {
     "iopub.execute_input": "2022-07-07T14:49:08.592661Z",
     "iopub.status.busy": "2022-07-07T14:49:08.592047Z",
     "iopub.status.idle": "2022-07-07T14:49:08.594571Z",
     "shell.execute_reply": "2022-07-07T14:49:08.594066Z"
    },
    "papermill": {
     "duration": 0.043035,
     "end_time": "2022-07-07T14:49:08.594708",
     "exception": false,
     "start_time": "2022-07-07T14:49:08.551673",
     "status": "completed"
    },
    "tags": []
   },
   "outputs": [],
   "source": [
    "inactive_mol_smiles = \"COc1ccc2[nH]cc(CCN)c2c1\"\n",
    "active_mol_smiles = \"CN1CCC(CNc2ccc3ncc(-c4cccc(OC(F)(F)F)c4)n3n2)CC1\"\n",
    "\n",
    "#Method transforms smiles strings to mol rdkit object  \n",
    "inactive_mol = Chem.MolFromSmiles(inactive_mol_smiles) \n",
    "active_mol= Chem.MolFromSmiles(active_mol_smiles) "
   ]
  },
  {
   "cell_type": "code",
   "execution_count": 4,
   "id": "e2ee2e17",
   "metadata": {
    "execution": {
     "iopub.execute_input": "2022-07-07T14:49:08.675622Z",
     "iopub.status.busy": "2022-07-07T14:49:08.674999Z",
     "iopub.status.idle": "2022-07-07T14:49:08.682179Z",
     "shell.execute_reply": "2022-07-07T14:49:08.682622Z"
    },
    "papermill": {
     "duration": 0.052524,
     "end_time": "2022-07-07T14:49:08.682780",
     "exception": false,
     "start_time": "2022-07-07T14:49:08.630256",
     "status": "completed"
    },
    "tags": []
   },
   "outputs": [
    {
     "data": {
      "image/png": "[encoded data removed]",
      "text/plain": [
       "<rdkit.Chem.rdchem.Mol at 0x7f427b6a6df0>"
      ]
     },
     "execution_count": 4,
     "metadata": {},
     "output_type": "execute_result"
    }
   ],
   "source": [
    "inactive_mol"
   ]
  },
  {
   "cell_type": "code",
   "execution_count": 5,
   "id": "c951aeef",
   "metadata": {
    "execution": {
     "iopub.execute_input": "2022-07-07T14:49:08.757706Z",
     "iopub.status.busy": "2022-07-07T14:49:08.757042Z",
     "iopub.status.idle": "2022-07-07T14:49:08.769092Z",
     "shell.execute_reply": "2022-07-07T14:49:08.768655Z"
    },
    "papermill": {
     "duration": 0.05053,
     "end_time": "2022-07-07T14:49:08.769224",
     "exception": false,
     "start_time": "2022-07-07T14:49:08.718694",
     "status": "completed"
    },
    "tags": []
   },
   "outputs": [
    {
     "data": {
      "image/png": "[encoded data removed]",
      "text/plain": [
       "<rdkit.Chem.rdchem.Mol at 0x7f427b6a9170>"
      ]
     },
     "execution_count": 5,
     "metadata": {},
     "output_type": "execute_result"
    }
   ],
   "source": [
    "active_mol"
   ]
  },
  {
   "cell_type": "code",
   "execution_count": 6,
   "id": "b426181b",
   "metadata": {
    "execution": {
     "iopub.execute_input": "2022-07-07T14:49:08.846600Z",
     "iopub.status.busy": "2022-07-07T14:49:08.845926Z",
     "iopub.status.idle": "2022-07-07T14:49:08.851120Z",
     "shell.execute_reply": "2022-07-07T14:49:08.851617Z"
    },
    "papermill": {
     "duration": 0.046026,
     "end_time": "2022-07-07T14:49:08.851785",
     "exception": false,
     "start_time": "2022-07-07T14:49:08.805759",
     "status": "completed"
    },
    "tags": []
   },
   "outputs": [
    {
     "data": {
      "text/plain": [
       "((0,), (2,), (3,), (4,), (5,), (7,), (8,), (9,), (10,), (12,), (13,))"
      ]
     },
     "execution_count": 6,
     "metadata": {},
     "output_type": "execute_result"
    }
   ],
   "source": [
    "c_patt = Chem.MolFromSmiles('C') ## it find this elements \n",
    "\n",
    "# Now let's implement GetSubstructMatches() method \n",
    "inactive_mol.GetSubstructMatches(c_patt)"
   ]
  },
  {
   "cell_type": "code",
   "execution_count": 7,
   "id": "9fc5c587",
   "metadata": {
    "execution": {
     "iopub.execute_input": "2022-07-07T14:49:08.930202Z",
     "iopub.status.busy": "2022-07-07T14:49:08.929614Z",
     "iopub.status.idle": "2022-07-07T14:49:08.944922Z",
     "shell.execute_reply": "2022-07-07T14:49:08.945356Z"
    },
    "papermill": {
     "duration": 0.055602,
     "end_time": "2022-07-07T14:49:08.945543",
     "exception": false,
     "start_time": "2022-07-07T14:49:08.889941",
     "status": "completed"
    },
    "tags": []
   },
   "outputs": [
    {
     "data": {
      "image/png": "[encoded data removed]",
      "text/plain": [
       "<rdkit.Chem.rdchem.Mol at 0x7f427b6a6df0>"
      ]
     },
     "execution_count": 7,
     "metadata": {},
     "output_type": "execute_result"
    }
   ],
   "source": [
    "inactive_mol"
   ]
  },
  {
   "cell_type": "code",
   "execution_count": 8,
   "id": "4cf9cbc5",
   "metadata": {
    "execution": {
     "iopub.execute_input": "2022-07-07T14:49:09.024163Z",
     "iopub.status.busy": "2022-07-07T14:49:09.023540Z",
     "iopub.status.idle": "2022-07-07T14:49:09.027753Z",
     "shell.execute_reply": "2022-07-07T14:49:09.028173Z"
    },
    "papermill": {
     "duration": 0.04472,
     "end_time": "2022-07-07T14:49:09.028327",
     "exception": false,
     "start_time": "2022-07-07T14:49:08.983607",
     "status": "completed"
    },
    "tags": []
   },
   "outputs": [
    {
     "data": {
      "text/plain": [
       "((21,), (22,), (23,))"
      ]
     },
     "execution_count": 8,
     "metadata": {},
     "output_type": "execute_result"
    }
   ],
   "source": [
    "c_patt = Chem.MolFromSmiles('F') ## it find this elements \n",
    "\n",
    "# Now let's implement GetSubstructMatches() method \n",
    "active_mol.GetSubstructMatches(c_patt)"
   ]
  },
  {
   "cell_type": "code",
   "execution_count": 9,
   "id": "e4c3e3f1",
   "metadata": {
    "execution": {
     "iopub.execute_input": "2022-07-07T14:49:09.108691Z",
     "iopub.status.busy": "2022-07-07T14:49:09.108061Z",
     "iopub.status.idle": "2022-07-07T14:49:09.120321Z",
     "shell.execute_reply": "2022-07-07T14:49:09.120850Z"
    },
    "papermill": {
     "duration": 0.053888,
     "end_time": "2022-07-07T14:49:09.121019",
     "exception": false,
     "start_time": "2022-07-07T14:49:09.067131",
     "status": "completed"
    },
    "tags": []
   },
   "outputs": [
    {
     "data": {
      "image/png": "[encoded data removed]",
      "text/plain": [
       "<rdkit.Chem.rdchem.Mol at 0x7f427b6a9170>"
      ]
     },
     "execution_count": 9,
     "metadata": {},
     "output_type": "execute_result"
    }
   ],
   "source": [
    "active_mol"
   ]
  },
  {
   "cell_type": "markdown",
   "id": "3b542d3e",
   "metadata": {
    "papermill": {
     "duration": 0.038427,
     "end_time": "2022-07-07T14:49:09.198289",
     "exception": false,
     "start_time": "2022-07-07T14:49:09.159862",
     "status": "completed"
    },
    "tags": []
   },
   "source": [
    "#### <font color=\"#0d427a\"> Numbers of atoms"
   ]
  },
  {
   "cell_type": "code",
   "execution_count": 10,
   "id": "01be0aef",
   "metadata": {
    "execution": {
     "iopub.execute_input": "2022-07-07T14:49:09.278208Z",
     "iopub.status.busy": "2022-07-07T14:49:09.277661Z",
     "iopub.status.idle": "2022-07-07T14:49:09.282038Z",
     "shell.execute_reply": "2022-07-07T14:49:09.282502Z"
    },
    "papermill": {
     "duration": 0.045875,
     "end_time": "2022-07-07T14:49:09.282665",
     "exception": false,
     "start_time": "2022-07-07T14:49:09.236790",
     "status": "completed"
    },
    "tags": []
   },
   "outputs": [
    {
     "data": {
      "text/plain": [
       "29"
      ]
     },
     "execution_count": 10,
     "metadata": {},
     "output_type": "execute_result"
    }
   ],
   "source": [
    "### You can count the number of atoms, heavy atoms \n",
    "\n",
    "num_atoms = active_mol.GetNumAtoms()\n",
    "num_atoms"
   ]
  },
  {
   "cell_type": "code",
   "execution_count": 11,
   "id": "787e4210",
   "metadata": {
    "execution": {
     "iopub.execute_input": "2022-07-07T14:49:09.364981Z",
     "iopub.status.busy": "2022-07-07T14:49:09.364407Z",
     "iopub.status.idle": "2022-07-07T14:49:09.368953Z",
     "shell.execute_reply": "2022-07-07T14:49:09.368462Z"
    },
    "papermill": {
     "duration": 0.04606,
     "end_time": "2022-07-07T14:49:09.369092",
     "exception": false,
     "start_time": "2022-07-07T14:49:09.323032",
     "status": "completed"
    },
    "tags": []
   },
   "outputs": [
    {
     "data": {
      "text/plain": [
       "29"
      ]
     },
     "execution_count": 11,
     "metadata": {},
     "output_type": "execute_result"
    }
   ],
   "source": [
    "num_heavy_atoms = active_mol.GetNumHeavyAtoms()\n",
    "num_heavy_atoms"
   ]
  },
  {
   "cell_type": "markdown",
   "id": "473db2a4",
   "metadata": {
    "papermill": {
     "duration": 0.036491,
     "end_time": "2022-07-07T14:49:09.444801",
     "exception": false,
     "start_time": "2022-07-07T14:49:09.408310",
     "status": "completed"
    },
    "tags": []
   },
   "source": [
    "#### <font color=\"#0d427a\"> Numbers of the most common atoms"
   ]
  },
  {
   "cell_type": "code",
   "execution_count": 12,
   "id": "20c855f4",
   "metadata": {
    "execution": {
     "iopub.execute_input": "2022-07-07T14:49:09.523740Z",
     "iopub.status.busy": "2022-07-07T14:49:09.523139Z",
     "iopub.status.idle": "2022-07-07T14:49:09.538903Z",
     "shell.execute_reply": "2022-07-07T14:49:09.538412Z"
    },
    "papermill": {
     "duration": 0.055187,
     "end_time": "2022-07-07T14:49:09.539037",
     "exception": false,
     "start_time": "2022-07-07T14:49:09.483850",
     "status": "completed"
    },
    "tags": []
   },
   "outputs": [
    {
     "data": {
      "image/png": "[encoded data removed]",
      "text/plain": [
       "<rdkit.Chem.rdchem.Mol at 0x7f427b6a9170>"
      ]
     },
     "execution_count": 12,
     "metadata": {},
     "output_type": "execute_result"
    }
   ],
   "source": [
    "active_mol"
   ]
  },
  {
   "cell_type": "code",
   "execution_count": 13,
   "id": "fe1817e8",
   "metadata": {
    "execution": {
     "iopub.execute_input": "2022-07-07T14:49:09.625664Z",
     "iopub.status.busy": "2022-07-07T14:49:09.625066Z",
     "iopub.status.idle": "2022-07-07T14:49:09.628208Z",
     "shell.execute_reply": "2022-07-07T14:49:09.628661Z"
    },
    "papermill": {
     "duration": 0.048914,
     "end_time": "2022-07-07T14:49:09.628824",
     "exception": false,
     "start_time": "2022-07-07T14:49:09.579910",
     "status": "completed"
    },
    "tags": []
   },
   "outputs": [
    {
     "data": {
      "text/plain": [
       "5"
      ]
     },
     "execution_count": 13,
     "metadata": {},
     "output_type": "execute_result"
    }
   ],
   "source": [
    "## Common atoms: 'C','O', 'N', 'Cl', 'F', 'S'\n",
    "\n",
    "number_of_N = len(active_mol.GetSubstructMatches(Chem.MolFromSmiles('N'))) \n",
    "number_of_N"
   ]
  },
  {
   "cell_type": "code",
   "execution_count": 14,
   "id": "2d18defb",
   "metadata": {
    "execution": {
     "iopub.execute_input": "2022-07-07T14:49:09.718093Z",
     "iopub.status.busy": "2022-07-07T14:49:09.717502Z",
     "iopub.status.idle": "2022-07-07T14:49:09.722732Z",
     "shell.execute_reply": "2022-07-07T14:49:09.722197Z"
    },
    "papermill": {
     "duration": 0.051941,
     "end_time": "2022-07-07T14:49:09.722872",
     "exception": false,
     "start_time": "2022-07-07T14:49:09.670931",
     "status": "completed"
    },
    "tags": []
   },
   "outputs": [
    {
     "data": {
      "text/plain": [
       "3"
      ]
     },
     "execution_count": 14,
     "metadata": {},
     "output_type": "execute_result"
    }
   ],
   "source": [
    "number_of_F = len(active_mol.GetSubstructMatches(Chem.MolFromSmiles('F'))) \n",
    "number_of_F"
   ]
  },
  {
   "cell_type": "markdown",
   "id": "4eb887c1",
   "metadata": {
    "papermill": {
     "duration": 0.042198,
     "end_time": "2022-07-07T14:49:09.806236",
     "exception": false,
     "start_time": "2022-07-07T14:49:09.764038",
     "status": "completed"
    },
    "tags": []
   },
   "source": [
    "#### <font color=\"#0d427a\">  Ring information"
   ]
  },
  {
   "cell_type": "code",
   "execution_count": 15,
   "id": "3f4aff64",
   "metadata": {
    "execution": {
     "iopub.execute_input": "2022-07-07T14:49:09.902206Z",
     "iopub.status.busy": "2022-07-07T14:49:09.892589Z",
     "iopub.status.idle": "2022-07-07T14:49:09.906455Z",
     "shell.execute_reply": "2022-07-07T14:49:09.905962Z"
    },
    "papermill": {
     "duration": 0.058336,
     "end_time": "2022-07-07T14:49:09.906591",
     "exception": false,
     "start_time": "2022-07-07T14:49:09.848255",
     "status": "completed"
    },
    "tags": []
   },
   "outputs": [
    {
     "data": {
      "image/png": "[encoded data removed]",
      "text/plain": [
       "<rdkit.Chem.rdchem.Mol at 0x7f427b6a9170>"
      ]
     },
     "execution_count": 15,
     "metadata": {},
     "output_type": "execute_result"
    }
   ],
   "source": [
    "active_mol"
   ]
  },
  {
   "cell_type": "code",
   "execution_count": 16,
   "id": "2d5f9347",
   "metadata": {
    "execution": {
     "iopub.execute_input": "2022-07-07T14:49:09.995933Z",
     "iopub.status.busy": "2022-07-07T14:49:09.995292Z",
     "iopub.status.idle": "2022-07-07T14:49:09.997671Z",
     "shell.execute_reply": "2022-07-07T14:49:09.998084Z"
    },
    "papermill": {
     "duration": 0.049801,
     "end_time": "2022-07-07T14:49:09.998242",
     "exception": false,
     "start_time": "2022-07-07T14:49:09.948441",
     "status": "completed"
    },
    "tags": []
   },
   "outputs": [
    {
     "data": {
      "text/plain": [
       "1"
      ]
     },
     "execution_count": 16,
     "metadata": {},
     "output_type": "execute_result"
    }
   ],
   "source": [
    "## You can count the number of rings \n",
    "\n",
    "active_mol.GetRingInfo().NumAtomRings(2)  # number of 2 rings "
   ]
  },
  {
   "cell_type": "code",
   "execution_count": 17,
   "id": "d2073bd1",
   "metadata": {
    "execution": {
     "iopub.execute_input": "2022-07-07T14:49:10.087574Z",
     "iopub.status.busy": "2022-07-07T14:49:10.085136Z",
     "iopub.status.idle": "2022-07-07T14:49:10.090745Z",
     "shell.execute_reply": "2022-07-07T14:49:10.091151Z"
    },
    "papermill": {
     "duration": 0.051293,
     "end_time": "2022-07-07T14:49:10.091314",
     "exception": false,
     "start_time": "2022-07-07T14:49:10.040021",
     "status": "completed"
    },
    "tags": []
   },
   "outputs": [
    {
     "data": {
      "text/plain": [
       "0"
      ]
     },
     "execution_count": 17,
     "metadata": {},
     "output_type": "execute_result"
    }
   ],
   "source": [
    "active_mol.GetRingInfo().NumAtomRings(5)  # number of 1 rings "
   ]
  },
  {
   "cell_type": "markdown",
   "id": "436d2cab",
   "metadata": {
    "papermill": {
     "duration": 0.042333,
     "end_time": "2022-07-07T14:49:10.177582",
     "exception": false,
     "start_time": "2022-07-07T14:49:10.135249",
     "status": "completed"
    },
    "tags": []
   },
   "source": [
    "#### <font color=\"#0d427a\"> Gasteiger Charge "
   ]
  },
  {
   "cell_type": "code",
   "execution_count": 18,
   "id": "b4652aa5",
   "metadata": {
    "execution": {
     "iopub.execute_input": "2022-07-07T14:49:10.266387Z",
     "iopub.status.busy": "2022-07-07T14:49:10.265790Z",
     "iopub.status.idle": "2022-07-07T14:49:10.276571Z",
     "shell.execute_reply": "2022-07-07T14:49:10.277031Z"
    },
    "papermill": {
     "duration": 0.056869,
     "end_time": "2022-07-07T14:49:10.277188",
     "exception": false,
     "start_time": "2022-07-07T14:49:10.220319",
     "status": "completed"
    },
    "tags": []
   },
   "outputs": [
    {
     "data": {
      "image/png": "[encoded data removed]",
      "text/plain": [
       "<rdkit.Chem.rdchem.Mol at 0x7f427b643b20>"
      ]
     },
     "execution_count": 18,
     "metadata": {},
     "output_type": "execute_result"
    }
   ],
   "source": [
    "m = Chem.MolFromSmiles(inactive_mol_smiles)\n",
    "AllChem.ComputeGasteigerCharges(m)\n",
    "m  "
   ]
  },
  {
   "cell_type": "code",
   "execution_count": 19,
   "id": "639a6c8f",
   "metadata": {
    "execution": {
     "iopub.execute_input": "2022-07-07T14:49:10.367950Z",
     "iopub.status.busy": "2022-07-07T14:49:10.367290Z",
     "iopub.status.idle": "2022-07-07T14:49:10.379988Z",
     "shell.execute_reply": "2022-07-07T14:49:10.380508Z"
    },
    "papermill": {
     "duration": 0.059292,
     "end_time": "2022-07-07T14:49:10.380663",
     "exception": false,
     "start_time": "2022-07-07T14:49:10.321371",
     "status": "completed"
    },
    "tags": []
   },
   "outputs": [
    {
     "data": {
      "image/png": "[encoded data removed]",
      "text/plain": [
       "<rdkit.Chem.rdchem.Mol at 0x7f427b649030>"
      ]
     },
     "execution_count": 19,
     "metadata": {},
     "output_type": "execute_result"
    }
   ],
   "source": [
    "m2 = Chem.Mol(m)\n",
    "for at in m2.GetAtoms():\n",
    "    lbl = '%.2f'%(at.GetDoubleProp(\"_GasteigerCharge\"))\n",
    "    at.SetProp('atomNote',lbl)\n",
    "m2"
   ]
  },
  {
   "cell_type": "code",
   "execution_count": 20,
   "id": "4143a508",
   "metadata": {
    "execution": {
     "iopub.execute_input": "2022-07-07T14:49:10.471597Z",
     "iopub.status.busy": "2022-07-07T14:49:10.470998Z",
     "iopub.status.idle": "2022-07-07T14:49:10.483737Z",
     "shell.execute_reply": "2022-07-07T14:49:10.484251Z"
    },
    "papermill": {
     "duration": 0.061449,
     "end_time": "2022-07-07T14:49:10.484437",
     "exception": false,
     "start_time": "2022-07-07T14:49:10.422988",
     "status": "completed"
    },
    "tags": []
   },
   "outputs": [
    {
     "data": {
      "image/png": "[encoded data removed]",
      "text/plain": [
       "<rdkit.Chem.rdchem.Mol at 0x7f427b643b20>"
      ]
     },
     "execution_count": 20,
     "metadata": {},
     "output_type": "execute_result"
    }
   ],
   "source": [
    "def mol_with_atom_index(mol):\n",
    "    for atom in mol.GetAtoms():\n",
    "        atom.SetAtomMapNum(atom.GetIdx())\n",
    "    return mol\n",
    "mol_with_atom_index(m)"
   ]
  },
  {
   "cell_type": "markdown",
   "id": "ace4171c",
   "metadata": {
    "papermill": {
     "duration": 0.047516,
     "end_time": "2022-07-07T14:49:10.578349",
     "exception": false,
     "start_time": "2022-07-07T14:49:10.530833",
     "status": "completed"
    },
    "tags": []
   },
   "source": [
    "#### <font color=\"#0d427a\"> Descriptors\n",
    "    \n",
    "    > rdkit.Chem.Descriptors provides a number of general molecular descriptors that can also be used to featurize a molecule. Most of the descriptors are straightforward to use from Python."
   ]
  },
  {
   "cell_type": "code",
   "execution_count": 21,
   "id": "bbe4f3a5",
   "metadata": {
    "execution": {
     "iopub.execute_input": "2022-07-07T14:49:10.672512Z",
     "iopub.status.busy": "2022-07-07T14:49:10.671937Z",
     "iopub.status.idle": "2022-07-07T14:49:10.676836Z",
     "shell.execute_reply": "2022-07-07T14:49:10.677249Z"
    },
    "papermill": {
     "duration": 0.053475,
     "end_time": "2022-07-07T14:49:10.677453",
     "exception": false,
     "start_time": "2022-07-07T14:49:10.623978",
     "status": "completed"
    },
    "tags": []
   },
   "outputs": [
    {
     "data": {
      "text/plain": [
       "54.69"
      ]
     },
     "execution_count": 21,
     "metadata": {},
     "output_type": "execute_result"
    }
   ],
   "source": [
    "Descriptors.TPSA(active_mol)"
   ]
  },
  {
   "cell_type": "code",
   "execution_count": 22,
   "id": "8dfb4bdb",
   "metadata": {
    "execution": {
     "iopub.execute_input": "2022-07-07T14:49:10.773514Z",
     "iopub.status.busy": "2022-07-07T14:49:10.772929Z",
     "iopub.status.idle": "2022-07-07T14:49:10.777238Z",
     "shell.execute_reply": "2022-07-07T14:49:10.777706Z"
    },
    "papermill": {
     "duration": 0.053815,
     "end_time": "2022-07-07T14:49:10.777865",
     "exception": false,
     "start_time": "2022-07-07T14:49:10.724050",
     "status": "completed"
    },
    "tags": []
   },
   "outputs": [
    {
     "data": {
      "text/plain": [
       "405.17764498400004"
      ]
     },
     "execution_count": 22,
     "metadata": {},
     "output_type": "execute_result"
    }
   ],
   "source": [
    "Descriptors.ExactMolWt(active_mol)"
   ]
  },
  {
   "cell_type": "code",
   "execution_count": 23,
   "id": "85c81198",
   "metadata": {
    "execution": {
     "iopub.execute_input": "2022-07-07T14:49:10.875799Z",
     "iopub.status.busy": "2022-07-07T14:49:10.875168Z",
     "iopub.status.idle": "2022-07-07T14:49:10.879591Z",
     "shell.execute_reply": "2022-07-07T14:49:10.880121Z"
    },
    "papermill": {
     "duration": 0.055657,
     "end_time": "2022-07-07T14:49:10.880281",
     "exception": false,
     "start_time": "2022-07-07T14:49:10.824624",
     "status": "completed"
    },
    "tags": []
   },
   "outputs": [
    {
     "data": {
      "text/plain": [
       "154"
      ]
     },
     "execution_count": 23,
     "metadata": {},
     "output_type": "execute_result"
    }
   ],
   "source": [
    "Descriptors.NumValenceElectrons(active_mol)"
   ]
  },
  {
   "cell_type": "code",
   "execution_count": 24,
   "id": "cb997ea1",
   "metadata": {
    "execution": {
     "iopub.execute_input": "2022-07-07T14:49:10.978353Z",
     "iopub.status.busy": "2022-07-07T14:49:10.977759Z",
     "iopub.status.idle": "2022-07-07T14:49:10.982119Z",
     "shell.execute_reply": "2022-07-07T14:49:10.982636Z"
    },
    "papermill": {
     "duration": 0.055243,
     "end_time": "2022-07-07T14:49:10.982805",
     "exception": false,
     "start_time": "2022-07-07T14:49:10.927562",
     "status": "completed"
    },
    "tags": []
   },
   "outputs": [
    {
     "data": {
      "text/plain": [
       "9"
      ]
     },
     "execution_count": 24,
     "metadata": {},
     "output_type": "execute_result"
    }
   ],
   "source": [
    "Descriptors.NumHeteroatoms(active_mol)"
   ]
  },
  {
   "cell_type": "markdown",
   "id": "4573552f",
   "metadata": {
    "papermill": {
     "duration": 0.047326,
     "end_time": "2022-07-07T14:49:11.077833",
     "exception": false,
     "start_time": "2022-07-07T14:49:11.030507",
     "status": "completed"
    },
    "tags": []
   },
   "source": [
    "### <font color=\"#0d427a\"> Image "
   ]
  },
  {
   "cell_type": "markdown",
   "id": "a1292218",
   "metadata": {
    "papermill": {
     "duration": 0.04746,
     "end_time": "2022-07-07T14:49:11.173106",
     "exception": false,
     "start_time": "2022-07-07T14:49:11.125646",
     "status": "completed"
    },
    "tags": []
   },
   "source": [
    "> I reccomend you to generate image of molecules and train image classifier "
   ]
  },
  {
   "cell_type": "code",
   "execution_count": 25,
   "id": "299e8eb4",
   "metadata": {
    "execution": {
     "iopub.execute_input": "2022-07-07T14:49:11.271681Z",
     "iopub.status.busy": "2022-07-07T14:49:11.271058Z",
     "iopub.status.idle": "2022-07-07T14:49:11.282640Z",
     "shell.execute_reply": "2022-07-07T14:49:11.283135Z"
    },
    "papermill": {
     "duration": 0.062392,
     "end_time": "2022-07-07T14:49:11.283294",
     "exception": false,
     "start_time": "2022-07-07T14:49:11.220902",
     "status": "completed"
    },
    "tags": []
   },
   "outputs": [],
   "source": [
    "### You can save to image as follow \n",
    "Draw.MolToFile(active_mol, \"active_mol.png\")  "
   ]
  },
  {
   "cell_type": "markdown",
   "id": "7e078362",
   "metadata": {
    "papermill": {
     "duration": 0.047109,
     "end_time": "2022-07-07T14:49:11.377837",
     "exception": false,
     "start_time": "2022-07-07T14:49:11.330728",
     "status": "completed"
    },
    "tags": []
   },
   "source": [
    "#### <font color=\"#0d427a\"> You can also generate images with charges  "
   ]
  },
  {
   "cell_type": "code",
   "execution_count": 26,
   "id": "745d6761",
   "metadata": {
    "execution": {
     "iopub.execute_input": "2022-07-07T14:49:11.475610Z",
     "iopub.status.busy": "2022-07-07T14:49:11.475031Z",
     "iopub.status.idle": "2022-07-07T14:49:11.914686Z",
     "shell.execute_reply": "2022-07-07T14:49:11.915118Z"
    },
    "papermill": {
     "duration": 0.48981,
     "end_time": "2022-07-07T14:49:11.915274",
     "exception": false,
     "start_time": "2022-07-07T14:49:11.425464",
     "status": "completed"
    },
    "tags": []
   },
   "outputs": [
    {
     "data": {
      "image/png": "[encoded data removed]",
      "text/plain": [
       "<Figure size 180x180 with 1 Axes>"
      ]
     },
     "metadata": {
      "needs_background": "light"
     },
     "output_type": "display_data"
    }
   ],
   "source": [
    "mol = Chem.MolFromSmiles('Oc1ccc2ccccc2c1SSc1c(O)ccc2ccccc12') \n",
    "AllChem.ComputeGasteigerCharges(mol) \n",
    "\n",
    "contribs = [mol.GetAtomWithIdx(i).GetDoubleProp('_GasteigerCharge') for i in range(mol.GetNumAtoms())] \n",
    "\n",
    "fig = SimilarityMaps.GetSimilarityMapFromWeights(mol, contribs, colorMap='jet', contourLines=10)"
   ]
  },
  {
   "cell_type": "markdown",
   "id": "7a17f835",
   "metadata": {
    "papermill": {
     "duration": 0.049834,
     "end_time": "2022-07-07T14:49:12.014586",
     "exception": false,
     "start_time": "2022-07-07T14:49:11.964752",
     "status": "completed"
    },
    "tags": []
   },
   "source": [
    "## <center> <font color=\"#0d427a\"> Thank you for reading! "
   ]
  }
 ],
 "metadata": {
  "kernelspec": {
   "display_name": "Python 3",
   "language": "python",
   "name": "python3"
  },
  "language_info": {
   "codemirror_mode": {
    "name": "ipython",
    "version": 3
   },
   "file_extension": ".py",
   "mimetype": "text/x-python",
   "name": "python",
   "nbconvert_exporter": "python",
   "pygments_lexer": "ipython3",
   "version": "3.7.12"
  },
  "papermill": {
   "default_parameters": {},
   "duration": 26.156919,
   "end_time": "2022-07-07T14:49:12.674560",
   "environment_variables": {},
   "exception": null,
   "input_path": "__notebook__.ipynb",
   "output_path": "__notebook__.ipynb",
   "parameters": {},
   "start_time": "2022-07-07T14:48:46.517641",
   "version": "2.3.3"
  }
 },
 "nbformat": 4,
 "nbformat_minor": 5
}
